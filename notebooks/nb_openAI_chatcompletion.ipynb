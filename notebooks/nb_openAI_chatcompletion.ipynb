{
 "cells": [
  {
   "cell_type": "markdown",
   "id": "2f444fc7",
   "metadata": {},
   "source": [
    "\n",
    "## 1. Installation\n",
    "\n",
    "The notebook starts by ensuring the `openai` package is installed:\n",
    "\n"
   ]
  },
  {
   "cell_type": "code",
   "execution_count": null,
   "id": "70b3929a",
   "metadata": {},
   "outputs": [],
   "source": [
    "%pip install openai"
   ]
  },
  {
   "cell_type": "markdown",
   "id": "6178cf5e",
   "metadata": {},
   "source": [
    "\n",
    "\n",
    "---\n",
    "\n",
    "## 2. Authentication\n",
    "\n",
    "Enter your Azure subscription key securely:\n",
    "\n"
   ]
  },
  {
   "cell_type": "code",
   "execution_count": 3,
   "id": "3bfbea1d",
   "metadata": {},
   "outputs": [],
   "source": [
    "from getpass import getpass\n",
    "\n",
    "subscription_key = getpass(\"Enter your Azure subscription key: \")"
   ]
  },
  {
   "cell_type": "markdown",
   "id": "9c9566ac",
   "metadata": {},
   "source": [
    "\n",
    "\n",
    "---\n",
    "\n",
    "## 3. Configuration\n",
    "\n",
    "Set up your Azure endpoint, deployment name, and API version. Then, initialize the `AzureOpenAI` client:\n",
    "\n"
   ]
  },
  {
   "cell_type": "code",
   "execution_count": null,
   "id": "1a493e64",
   "metadata": {},
   "outputs": [],
   "source": [
    "import os\n",
    "from openai import AzureOpenAI\n",
    "\n",
    "client = AzureOpenAI(\n",
    "    api_version=\"2024-12-01-preview\",\n",
    "    azure_endpoint= \"<< your endpoint >>\",  # e.g., \"https://your-resource-name.openai.azure.com/\"\n",
    "    api_key=subscription_key,\n",
    ")"
   ]
  },
  {
   "cell_type": "markdown",
   "id": "f307fbaf",
   "metadata": {},
   "source": [
    "\n",
    "\n",
    "---\n",
    "\n",
    "## 4. Sending a Chat Request\n",
    "\n",
    "A chat completion request is sent to the Azure OpenAI endpoint using the specified deployment:\n",
    "\n"
   ]
  },
  {
   "cell_type": "code",
   "execution_count": 7,
   "id": "85a7ada9",
   "metadata": {},
   "outputs": [],
   "source": [
    "response = client.chat.completions.create(\n",
    "    messages=[\n",
    "        {\n",
    "            \"role\": \"system\",\n",
    "            \"content\": \"You are a helpful assistant.\",\n",
    "        },\n",
    "        {\n",
    "            \"role\": \"user\",\n",
    "            \"content\": \"Tell me a 5 sentence story about a cat who learns to code.\",\n",
    "        }\n",
    "    ],\n",
    "    max_completion_tokens=13107,\n",
    "    temperature=1.0,\n",
    "    top_p=1.0,\n",
    "    frequency_penalty=0.0,\n",
    "    presence_penalty=0.0,\n",
    "    model=deployment\n",
    ")"
   ]
  },
  {
   "cell_type": "markdown",
   "id": "883d173b",
   "metadata": {},
   "source": [
    "\n",
    "\n",
    "---\n",
    "\n",
    "## 5. Output\n",
    "\n",
    "The assistant's response is printed:\n",
    "\n"
   ]
  },
  {
   "cell_type": "code",
   "execution_count": 8,
   "id": "221878e0",
   "metadata": {},
   "outputs": [
    {
     "name": "stdout",
     "output_type": "stream",
     "text": [
      "Whiskers, a curious tabby cat, discovered a glowing laptop left open on the windowsill. Intrigued by the dancing symbols on the screen, Whiskers began tapping the keys with her paws. Over time, she learned to write simple lines of code, creating colorful patterns and playful animations. Her owner was amazed to find a cat who could debug errors and build tiny programs. Whiskers became the first feline coder, inspiring pets everywhere to explore the world of technology.\n"
     ]
    }
   ],
   "source": [
    "print(response.choices[0].message.content)"
   ]
  },
  {
   "cell_type": "markdown",
   "id": "9d11b349",
   "metadata": {},
   "source": [
    "\n",
    "\n",
    "---\n",
    "\n",
    "## 6. Best Practices\n",
    "\n",
    "- **Never hardcode secrets**: Always use secure input for API keys.\n",
    "- **Parameterize deployments**: Use variables for endpoints and deployment names for flexibility.\n",
    "- **Limit tokens**: Adjust `max_completion_tokens` to avoid excessive usage.\n",
    "- **Follow Azure OpenAI [best practices](https://learn.microsoft.com/en-us/azure/ai-services/openai/how-to/production-deployments)** for security and scalability.\n",
    "\n",
    "---\n",
    "\n",
    "## 7. References\n",
    "\n",
    "- [Azure OpenAI Service Documentation](https://learn.microsoft.com/en-us/azure/ai-services/openai/)\n",
    "- [openai Python SDK](https://pypi.org/project/openai/)\n",
    "- [AzureOpenAI API Reference](https://learn.microsoft.com/en-us/python/api/overview/azure/ai-openai-readme)\n",
    "\n"
   ]
  }
 ],
 "metadata": {
  "kernelspec": {
   "display_name": "base",
   "language": "python",
   "name": "python3"
  },
  "language_info": {
   "codemirror_mode": {
    "name": "ipython",
    "version": 3
   },
   "file_extension": ".py",
   "mimetype": "text/x-python",
   "name": "python",
   "nbconvert_exporter": "python",
   "pygments_lexer": "ipython3",
   "version": "3.12.7"
  }
 },
 "nbformat": 4,
 "nbformat_minor": 5
}
